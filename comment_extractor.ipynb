{
 "cells": [
  {
   "cell_type": "code",
   "execution_count": 3,
   "id": "85492a05",
   "metadata": {},
   "outputs": [
    {
     "name": "stdout",
     "output_type": "stream",
     "text": [
      "Collecting selenium\n",
      "  Obtaining dependency information for selenium from https://files.pythonhosted.org/packages/10/56/8288d1813a68c1e0638515dbb777fce6d87d0d240e683216f956145310e6/selenium-4.11.2-py3-none-any.whl.metadata\n",
      "  Downloading selenium-4.11.2-py3-none-any.whl.metadata (7.0 kB)\n",
      "Requirement already satisfied: urllib3[socks]<3,>=1.26 in c:\\users\\dbwjd\\anaconda3\\lib\\site-packages (from selenium) (1.26.16)\n",
      "Collecting trio~=0.17 (from selenium)\n",
      "  Obtaining dependency information for trio~=0.17 from https://files.pythonhosted.org/packages/a3/dd/b61fa61b186d3267ef3903048fbee29132963ae762fb70b08d4a3cd6f7aa/trio-0.22.2-py3-none-any.whl.metadata\n",
      "  Downloading trio-0.22.2-py3-none-any.whl.metadata (4.7 kB)\n",
      "Collecting trio-websocket~=0.9 (from selenium)\n",
      "  Obtaining dependency information for trio-websocket~=0.9 from https://files.pythonhosted.org/packages/a5/a6/06e2373f95c12e9e8f6b910a76c86e375348ead77ab476230640666310fb/trio_websocket-0.10.3-py3-none-any.whl.metadata\n",
      "  Downloading trio_websocket-0.10.3-py3-none-any.whl.metadata (4.6 kB)\n",
      "Requirement already satisfied: certifi>=2021.10.8 in c:\\users\\dbwjd\\anaconda3\\lib\\site-packages (from selenium) (2023.7.22)\n",
      "Requirement already satisfied: attrs>=20.1.0 in c:\\users\\dbwjd\\anaconda3\\lib\\site-packages (from trio~=0.17->selenium) (22.1.0)\n",
      "Requirement already satisfied: sortedcontainers in c:\\users\\dbwjd\\anaconda3\\lib\\site-packages (from trio~=0.17->selenium) (2.4.0)\n",
      "Requirement already satisfied: idna in c:\\users\\dbwjd\\anaconda3\\lib\\site-packages (from trio~=0.17->selenium) (3.4)\n",
      "Collecting outcome (from trio~=0.17->selenium)\n",
      "  Downloading outcome-1.2.0-py2.py3-none-any.whl (9.7 kB)\n",
      "Requirement already satisfied: sniffio in c:\\users\\dbwjd\\anaconda3\\lib\\site-packages (from trio~=0.17->selenium) (1.2.0)\n",
      "Requirement already satisfied: cffi>=1.14 in c:\\users\\dbwjd\\anaconda3\\lib\\site-packages (from trio~=0.17->selenium) (1.15.1)\n",
      "Collecting exceptiongroup (from trio-websocket~=0.9->selenium)\n",
      "  Obtaining dependency information for exceptiongroup from https://files.pythonhosted.org/packages/ad/83/b71e58666f156a39fb29417e4c8ca4bc7400c0dd4ed9e8842ab54dc8c344/exceptiongroup-1.1.3-py3-none-any.whl.metadata\n",
      "  Downloading exceptiongroup-1.1.3-py3-none-any.whl.metadata (6.1 kB)\n",
      "Collecting wsproto>=0.14 (from trio-websocket~=0.9->selenium)\n",
      "  Downloading wsproto-1.2.0-py3-none-any.whl (24 kB)\n",
      "Requirement already satisfied: PySocks!=1.5.7,<2.0,>=1.5.6 in c:\\users\\dbwjd\\anaconda3\\lib\\site-packages (from urllib3[socks]<3,>=1.26->selenium) (1.7.1)\n",
      "Requirement already satisfied: pycparser in c:\\users\\dbwjd\\anaconda3\\lib\\site-packages (from cffi>=1.14->trio~=0.17->selenium) (2.21)\n",
      "Collecting h11<1,>=0.9.0 (from wsproto>=0.14->trio-websocket~=0.9->selenium)\n",
      "  Downloading h11-0.14.0-py3-none-any.whl (58 kB)\n",
      "     ---------------------------------------- 0.0/58.3 kB ? eta -:--:--\n",
      "     ---------------------------------------- 58.3/58.3 kB 3.0 MB/s eta 0:00:00\n",
      "Downloading selenium-4.11.2-py3-none-any.whl (7.2 MB)\n",
      "   ---------------------------------------- 0.0/7.2 MB ? eta -:--:--\n",
      "    --------------------------------------- 0.1/7.2 MB 3.3 MB/s eta 0:00:03\n",
      "    --------------------------------------- 0.2/7.2 MB 1.6 MB/s eta 0:00:05\n",
      "   -- ------------------------------------- 0.4/7.2 MB 2.9 MB/s eta 0:00:03\n",
      "   --- ------------------------------------ 0.6/7.2 MB 3.3 MB/s eta 0:00:02\n",
      "   ---- ----------------------------------- 0.8/7.2 MB 3.8 MB/s eta 0:00:02\n",
      "   ------ --------------------------------- 1.2/7.2 MB 4.2 MB/s eta 0:00:02\n",
      "   -------- ------------------------------- 1.6/7.2 MB 4.7 MB/s eta 0:00:02\n",
      "   ---------- ----------------------------- 1.8/7.2 MB 5.1 MB/s eta 0:00:02\n",
      "   ------------ --------------------------- 2.2/7.2 MB 5.4 MB/s eta 0:00:01\n",
      "   --------------- ------------------------ 2.7/7.2 MB 5.7 MB/s eta 0:00:01\n",
      "   ---------------- ----------------------- 3.0/7.2 MB 5.9 MB/s eta 0:00:01\n",
      "   ------------------- -------------------- 3.5/7.2 MB 6.3 MB/s eta 0:00:01\n",
      "   -------------------- ------------------- 3.7/7.2 MB 6.1 MB/s eta 0:00:01\n",
      "   ---------------------- ----------------- 4.1/7.2 MB 6.3 MB/s eta 0:00:01\n",
      "   ------------------------ --------------- 4.4/7.2 MB 6.3 MB/s eta 0:00:01\n",
      "   -------------------------- ------------- 4.8/7.2 MB 6.5 MB/s eta 0:00:01\n",
      "   ----------------------------- ---------- 5.2/7.2 MB 6.7 MB/s eta 0:00:01\n",
      "   -------------------------------- ------- 5.8/7.2 MB 6.8 MB/s eta 0:00:01\n",
      "   --------------------------------- ------ 6.0/7.2 MB 7.0 MB/s eta 0:00:01\n",
      "   ----------------------------------- ---- 6.4/7.2 MB 6.8 MB/s eta 0:00:01\n",
      "   ------------------------------------- -- 6.8/7.2 MB 7.0 MB/s eta 0:00:01\n",
      "   ---------------------------------------  7.2/7.2 MB 7.1 MB/s eta 0:00:01\n",
      "   ---------------------------------------- 7.2/7.2 MB 7.0 MB/s eta 0:00:00\n",
      "Downloading trio-0.22.2-py3-none-any.whl (400 kB)\n",
      "   ---------------------------------------- 0.0/400.2 kB ? eta -:--:--\n",
      "   --------------------------------------- 400.2/400.2 kB 12.6 MB/s eta 0:00:00\n",
      "Downloading trio_websocket-0.10.3-py3-none-any.whl (17 kB)\n",
      "Downloading exceptiongroup-1.1.3-py3-none-any.whl (14 kB)\n",
      "Installing collected packages: outcome, h11, exceptiongroup, wsproto, trio, trio-websocket, selenium\n",
      "Successfully installed exceptiongroup-1.1.3 h11-0.14.0 outcome-1.2.0 selenium-4.11.2 trio-0.22.2 trio-websocket-0.10.3 wsproto-1.2.0\n"
     ]
    }
   ],
   "source": [
    "!pip install selenium"
   ]
  },
  {
   "cell_type": "code",
   "execution_count": 3,
   "id": "2b799713",
   "metadata": {},
   "outputs": [],
   "source": [
    "# 작업에 필요한 라이브러리\n",
    "from selenium import webdriver\n",
    "from selenium.webdriver import ActionChains\n",
    "from selenium.webdriver.common.keys import Keys\n",
    "import time"
   ]
  },
  {
   "cell_type": "code",
   "execution_count": 15,
   "id": "1eb01204",
   "metadata": {},
   "outputs": [],
   "source": [
    "# 1. 웹 열기\n",
    "driver = webdriver.Chrome()\n",
    "driver.set_window_size(414, 800) #브라우저 크기 414*800으로 고정\n",
    "driver.get(\"https://www.instagram.com\")\n",
    "time.sleep(3)"
   ]
  },
  {
   "cell_type": "code",
   "execution_count": 16,
   "id": "0fa698bc",
   "metadata": {},
   "outputs": [
    {
     "ename": "TimeoutException",
     "evalue": "Message: \nStacktrace:\n\tGetHandleVerifier [0x00007FF6D8C552A2+57122]\n\t(No symbol) [0x00007FF6D8BCEA92]\n\t(No symbol) [0x00007FF6D8A9E3AB]\n\t(No symbol) [0x00007FF6D8AD7D3E]\n\t(No symbol) [0x00007FF6D8AD7E2C]\n\t(No symbol) [0x00007FF6D8B10B67]\n\t(No symbol) [0x00007FF6D8AF701F]\n\t(No symbol) [0x00007FF6D8B0EB82]\n\t(No symbol) [0x00007FF6D8AF6DB3]\n\t(No symbol) [0x00007FF6D8ACD2B1]\n\t(No symbol) [0x00007FF6D8ACE494]\n\tGetHandleVerifier [0x00007FF6D8EFEF82+2849794]\n\tGetHandleVerifier [0x00007FF6D8F51D24+3189156]\n\tGetHandleVerifier [0x00007FF6D8F4ACAF+3160367]\n\tGetHandleVerifier [0x00007FF6D8CE6D06+653702]\n\t(No symbol) [0x00007FF6D8BDA208]\n\t(No symbol) [0x00007FF6D8BD62C4]\n\t(No symbol) [0x00007FF6D8BD63F6]\n\t(No symbol) [0x00007FF6D8BC67A3]\n\tBaseThreadInitThunk [0x00007FFE92DF26AD+29]\n\tRtlUserThreadStart [0x00007FFE94D6AA68+40]\n",
     "output_type": "error",
     "traceback": [
      "\u001b[1;31m---------------------------------------------------------------------------\u001b[0m",
      "\u001b[1;31mTimeoutException\u001b[0m                          Traceback (most recent call last)",
      "Cell \u001b[1;32mIn[16], line 23\u001b[0m\n\u001b[0;32m     20\u001b[0m login_button\u001b[38;5;241m.\u001b[39mclick()\n\u001b[0;32m     22\u001b[0m \u001b[38;5;66;03m# 로그인 후 페이지 로딩 대기\u001b[39;00m\n\u001b[1;32m---> 23\u001b[0m wait\u001b[38;5;241m.\u001b[39muntil(EC\u001b[38;5;241m.\u001b[39mpresence_of_element_located((By\u001b[38;5;241m.\u001b[39mXPATH, \u001b[38;5;124m'\u001b[39m\u001b[38;5;124m//*[@id=\u001b[39m\u001b[38;5;124m\"\u001b[39m\u001b[38;5;124mreact-root\u001b[39m\u001b[38;5;124m\"\u001b[39m\u001b[38;5;124m]/section/main/div/div/div/div/button\u001b[39m\u001b[38;5;124m'\u001b[39m)))\n\u001b[0;32m     25\u001b[0m \u001b[38;5;66;03m# \"나중에 하기\" 버튼 클릭\u001b[39;00m\n\u001b[0;32m     26\u001b[0m \u001b[38;5;28;01mtry\u001b[39;00m:\n",
      "File \u001b[1;32m~\\anaconda3\\Lib\\site-packages\\selenium\\webdriver\\support\\wait.py:95\u001b[0m, in \u001b[0;36mWebDriverWait.until\u001b[1;34m(self, method, message)\u001b[0m\n\u001b[0;32m     93\u001b[0m     \u001b[38;5;28;01mif\u001b[39;00m time\u001b[38;5;241m.\u001b[39mmonotonic() \u001b[38;5;241m>\u001b[39m end_time:\n\u001b[0;32m     94\u001b[0m         \u001b[38;5;28;01mbreak\u001b[39;00m\n\u001b[1;32m---> 95\u001b[0m \u001b[38;5;28;01mraise\u001b[39;00m TimeoutException(message, screen, stacktrace)\n",
      "\u001b[1;31mTimeoutException\u001b[0m: Message: \nStacktrace:\n\tGetHandleVerifier [0x00007FF6D8C552A2+57122]\n\t(No symbol) [0x00007FF6D8BCEA92]\n\t(No symbol) [0x00007FF6D8A9E3AB]\n\t(No symbol) [0x00007FF6D8AD7D3E]\n\t(No symbol) [0x00007FF6D8AD7E2C]\n\t(No symbol) [0x00007FF6D8B10B67]\n\t(No symbol) [0x00007FF6D8AF701F]\n\t(No symbol) [0x00007FF6D8B0EB82]\n\t(No symbol) [0x00007FF6D8AF6DB3]\n\t(No symbol) [0x00007FF6D8ACD2B1]\n\t(No symbol) [0x00007FF6D8ACE494]\n\tGetHandleVerifier [0x00007FF6D8EFEF82+2849794]\n\tGetHandleVerifier [0x00007FF6D8F51D24+3189156]\n\tGetHandleVerifier [0x00007FF6D8F4ACAF+3160367]\n\tGetHandleVerifier [0x00007FF6D8CE6D06+653702]\n\t(No symbol) [0x00007FF6D8BDA208]\n\t(No symbol) [0x00007FF6D8BD62C4]\n\t(No symbol) [0x00007FF6D8BD63F6]\n\t(No symbol) [0x00007FF6D8BC67A3]\n\tBaseThreadInitThunk [0x00007FFE92DF26AD+29]\n\tRtlUserThreadStart [0x00007FFE94D6AA68+40]\n"
     ]
    }
   ],
   "source": [
    "# 2. 로그인\n",
    "from selenium.webdriver.common.by import By\n",
    "from selenium.webdriver.support.ui import WebDriverWait\n",
    "from selenium.webdriver.support import expected_conditions as EC\n",
    "\n",
    "wait = WebDriverWait(driver, 10)\n",
    "\n",
    "username_input = wait.until(EC.presence_of_element_located((By.NAME, 'username')))\n",
    "password_input = driver.find_element(By.NAME, 'password')\n",
    "login_button = driver.find_element(By.XPATH, '//*[@id=\"loginForm\"]/div[1]/div[3]/button')\n",
    "\n",
    "# 로그인 정보 입력\n",
    "username = 'cosla_playsw'\n",
    "password = 'password' # 수정\n",
    "username_input.send_keys(username)\n",
    "password_input.send_keys(password)\n",
    "\n",
    "# 로그인 버튼 클릭\n",
    "login_button.click()\n",
    "\n",
    "# 로그인 후 페이지 로딩 대기\n",
    "wait.until(EC.presence_of_element_located((By.XPATH, '//*[@id=\"react-root\"]/section/main/div/div/div/div/button')))\n",
    "\n",
    "# \"나중에 하기\" 버튼 클릭\n",
    "try:\n",
    "    later_button = driver.find_element(By.XPATH, '//*[@id=\"react-root\"]/section/main/div/div/div/div/button')\n",
    "    later_button.click()\n",
    "except Exception as e:\n",
    "    print(\"나중에 하기 버튼을 찾지 못했습니다.\")\n",
    "\n",
    "# 에러가 발생하지 않도록 적절한 시간을 대기\n",
    "time.sleep(5)"
   ]
  },
  {
   "cell_type": "code",
   "execution_count": 24,
   "id": "c234ad57",
   "metadata": {
    "scrolled": true
   },
   "outputs": [
    {
     "ename": "NoSuchElementException",
     "evalue": "Message: no such element: Unable to locate element: {\"method\":\"css selector\",\"selector\":\".xpdipgo x6umtig x1b1mbwd xaqea5y xav7gou xk390pu x5yr21d xdj266r x11i5rnm xat24cr x1mh8g0r xexx8yu x4uap5 x18d9i69 xkhd6sd x11njtxf xh8yej3\"}\n  (Session info: chrome=116.0.5845.111); For documentation on this error, please visit: https://www.selenium.dev/documentation/webdriver/troubleshooting/errors#no-such-element-exception\nStacktrace:\n\tGetHandleVerifier [0x00007FF6D8C552A2+57122]\n\t(No symbol) [0x00007FF6D8BCEA92]\n\t(No symbol) [0x00007FF6D8A9E3AB]\n\t(No symbol) [0x00007FF6D8AD7D3E]\n\t(No symbol) [0x00007FF6D8AD7E2C]\n\t(No symbol) [0x00007FF6D8B10B67]\n\t(No symbol) [0x00007FF6D8AF701F]\n\t(No symbol) [0x00007FF6D8B0EB82]\n\t(No symbol) [0x00007FF6D8AF6DB3]\n\t(No symbol) [0x00007FF6D8ACD2B1]\n\t(No symbol) [0x00007FF6D8ACE494]\n\tGetHandleVerifier [0x00007FF6D8EFEF82+2849794]\n\tGetHandleVerifier [0x00007FF6D8F51D24+3189156]\n\tGetHandleVerifier [0x00007FF6D8F4ACAF+3160367]\n\tGetHandleVerifier [0x00007FF6D8CE6D06+653702]\n\t(No symbol) [0x00007FF6D8BDA208]\n\t(No symbol) [0x00007FF6D8BD62C4]\n\t(No symbol) [0x00007FF6D8BD63F6]\n\t(No symbol) [0x00007FF6D8BC67A3]\n\tBaseThreadInitThunk [0x00007FFE92DF26AD+29]\n\tRtlUserThreadStart [0x00007FFE94D6AA68+40]\n",
     "output_type": "error",
     "traceback": [
      "\u001b[1;31m---------------------------------------------------------------------------\u001b[0m",
      "\u001b[1;31mNoSuchElementException\u001b[0m                    Traceback (most recent call last)",
      "Cell \u001b[1;32mIn[24], line 2\u001b[0m\n\u001b[0;32m      1\u001b[0m \u001b[38;5;66;03m# 3. 프로필 들어가기\u001b[39;00m\n\u001b[1;32m----> 2\u001b[0m tab_me \u001b[38;5;241m=\u001b[39m driver\u001b[38;5;241m.\u001b[39mfind_element(By\u001b[38;5;241m.\u001b[39mCLASS_NAME, \u001b[38;5;124m'\u001b[39m\u001b[38;5;124mxpdipgo x6umtig x1b1mbwd xaqea5y xav7gou xk390pu x5yr21d xdj266r x11i5rnm xat24cr x1mh8g0r xexx8yu x4uap5 x18d9i69 xkhd6sd x11njtxf xh8yej3\u001b[39m\u001b[38;5;124m'\u001b[39m)\n\u001b[0;32m      3\u001b[0m my_photo \u001b[38;5;241m=\u001b[39m driver\u001b[38;5;241m.\u001b[39mfind_element(By\u001b[38;5;241m.\u001b[39mXPATH,\u001b[38;5;124m'\u001b[39m\u001b[38;5;124m//*[@id=\u001b[39m\u001b[38;5;124m\"\u001b[39m\u001b[38;5;124mmount_0_0_RO\u001b[39m\u001b[38;5;124m\"\u001b[39m\u001b[38;5;124m]/div/div/div[2]/div/div/div/div[1]/div[1]/div[1]/div/div/div/div/div[2]/div[8]/div/span/div/a/div/div[1]/div/div/span/img\u001b[39m\u001b[38;5;124m'\u001b[39m)                   \n\u001b[0;32m      4\u001b[0m my\u001b[38;5;241m.\u001b[39mphoto\u001b[38;5;241m.\u001b[39mclick()\n",
      "File \u001b[1;32m~\\anaconda3\\Lib\\site-packages\\selenium\\webdriver\\remote\\webdriver.py:739\u001b[0m, in \u001b[0;36mWebDriver.find_element\u001b[1;34m(self, by, value)\u001b[0m\n\u001b[0;32m    736\u001b[0m     by \u001b[38;5;241m=\u001b[39m By\u001b[38;5;241m.\u001b[39mCSS_SELECTOR\n\u001b[0;32m    737\u001b[0m     value \u001b[38;5;241m=\u001b[39m \u001b[38;5;124mf\u001b[39m\u001b[38;5;124m'\u001b[39m\u001b[38;5;124m[name=\u001b[39m\u001b[38;5;124m\"\u001b[39m\u001b[38;5;132;01m{\u001b[39;00mvalue\u001b[38;5;132;01m}\u001b[39;00m\u001b[38;5;124m\"\u001b[39m\u001b[38;5;124m]\u001b[39m\u001b[38;5;124m'\u001b[39m\n\u001b[1;32m--> 739\u001b[0m \u001b[38;5;28;01mreturn\u001b[39;00m \u001b[38;5;28mself\u001b[39m\u001b[38;5;241m.\u001b[39mexecute(Command\u001b[38;5;241m.\u001b[39mFIND_ELEMENT, {\u001b[38;5;124m\"\u001b[39m\u001b[38;5;124musing\u001b[39m\u001b[38;5;124m\"\u001b[39m: by, \u001b[38;5;124m\"\u001b[39m\u001b[38;5;124mvalue\u001b[39m\u001b[38;5;124m\"\u001b[39m: value})[\u001b[38;5;124m\"\u001b[39m\u001b[38;5;124mvalue\u001b[39m\u001b[38;5;124m\"\u001b[39m]\n",
      "File \u001b[1;32m~\\anaconda3\\Lib\\site-packages\\selenium\\webdriver\\remote\\webdriver.py:345\u001b[0m, in \u001b[0;36mWebDriver.execute\u001b[1;34m(self, driver_command, params)\u001b[0m\n\u001b[0;32m    343\u001b[0m response \u001b[38;5;241m=\u001b[39m \u001b[38;5;28mself\u001b[39m\u001b[38;5;241m.\u001b[39mcommand_executor\u001b[38;5;241m.\u001b[39mexecute(driver_command, params)\n\u001b[0;32m    344\u001b[0m \u001b[38;5;28;01mif\u001b[39;00m response:\n\u001b[1;32m--> 345\u001b[0m     \u001b[38;5;28mself\u001b[39m\u001b[38;5;241m.\u001b[39merror_handler\u001b[38;5;241m.\u001b[39mcheck_response(response)\n\u001b[0;32m    346\u001b[0m     response[\u001b[38;5;124m\"\u001b[39m\u001b[38;5;124mvalue\u001b[39m\u001b[38;5;124m\"\u001b[39m] \u001b[38;5;241m=\u001b[39m \u001b[38;5;28mself\u001b[39m\u001b[38;5;241m.\u001b[39m_unwrap_value(response\u001b[38;5;241m.\u001b[39mget(\u001b[38;5;124m\"\u001b[39m\u001b[38;5;124mvalue\u001b[39m\u001b[38;5;124m\"\u001b[39m, \u001b[38;5;28;01mNone\u001b[39;00m))\n\u001b[0;32m    347\u001b[0m     \u001b[38;5;28;01mreturn\u001b[39;00m response\n",
      "File \u001b[1;32m~\\anaconda3\\Lib\\site-packages\\selenium\\webdriver\\remote\\errorhandler.py:229\u001b[0m, in \u001b[0;36mErrorHandler.check_response\u001b[1;34m(self, response)\u001b[0m\n\u001b[0;32m    227\u001b[0m         alert_text \u001b[38;5;241m=\u001b[39m value[\u001b[38;5;124m\"\u001b[39m\u001b[38;5;124malert\u001b[39m\u001b[38;5;124m\"\u001b[39m]\u001b[38;5;241m.\u001b[39mget(\u001b[38;5;124m\"\u001b[39m\u001b[38;5;124mtext\u001b[39m\u001b[38;5;124m\"\u001b[39m)\n\u001b[0;32m    228\u001b[0m     \u001b[38;5;28;01mraise\u001b[39;00m exception_class(message, screen, stacktrace, alert_text)  \u001b[38;5;66;03m# type: ignore[call-arg]  # mypy is not smart enough here\u001b[39;00m\n\u001b[1;32m--> 229\u001b[0m \u001b[38;5;28;01mraise\u001b[39;00m exception_class(message, screen, stacktrace)\n",
      "\u001b[1;31mNoSuchElementException\u001b[0m: Message: no such element: Unable to locate element: {\"method\":\"css selector\",\"selector\":\".xpdipgo x6umtig x1b1mbwd xaqea5y xav7gou xk390pu x5yr21d xdj266r x11i5rnm xat24cr x1mh8g0r xexx8yu x4uap5 x18d9i69 xkhd6sd x11njtxf xh8yej3\"}\n  (Session info: chrome=116.0.5845.111); For documentation on this error, please visit: https://www.selenium.dev/documentation/webdriver/troubleshooting/errors#no-such-element-exception\nStacktrace:\n\tGetHandleVerifier [0x00007FF6D8C552A2+57122]\n\t(No symbol) [0x00007FF6D8BCEA92]\n\t(No symbol) [0x00007FF6D8A9E3AB]\n\t(No symbol) [0x00007FF6D8AD7D3E]\n\t(No symbol) [0x00007FF6D8AD7E2C]\n\t(No symbol) [0x00007FF6D8B10B67]\n\t(No symbol) [0x00007FF6D8AF701F]\n\t(No symbol) [0x00007FF6D8B0EB82]\n\t(No symbol) [0x00007FF6D8AF6DB3]\n\t(No symbol) [0x00007FF6D8ACD2B1]\n\t(No symbol) [0x00007FF6D8ACE494]\n\tGetHandleVerifier [0x00007FF6D8EFEF82+2849794]\n\tGetHandleVerifier [0x00007FF6D8F51D24+3189156]\n\tGetHandleVerifier [0x00007FF6D8F4ACAF+3160367]\n\tGetHandleVerifier [0x00007FF6D8CE6D06+653702]\n\t(No symbol) [0x00007FF6D8BDA208]\n\t(No symbol) [0x00007FF6D8BD62C4]\n\t(No symbol) [0x00007FF6D8BD63F6]\n\t(No symbol) [0x00007FF6D8BC67A3]\n\tBaseThreadInitThunk [0x00007FFE92DF26AD+29]\n\tRtlUserThreadStart [0x00007FFE94D6AA68+40]\n"
     ]
    }
   ],
   "source": [
    "# 3. 프로필 들어가기\n",
    "tab_me = driver.find_element(By.CSS_SELECTOR, '')\n",
    "my_photo = driver.find_element(By.XPATH,'//*[@id=\"mount_0_0_RO\"]/div/div/div[2]/div/div/div/div[1]/div[1]/div[1]/div/div/div/div/div[2]/div[8]/div/span/div/a/div/div[1]/div/div/span/img')                   \n",
    "my.photo.click()\n",
    "time.sleep(2)\n",
    "# 로그인 정보 입력"
   ]
  },
  {
   "cell_type": "code",
   "execution_count": null,
   "id": "2322380e",
   "metadata": {},
   "outputs": [],
   "source": []
  }
 ],
 "metadata": {
  "kernelspec": {
   "display_name": "Python 3 (ipykernel)",
   "language": "python",
   "name": "python3"
  },
  "language_info": {
   "codemirror_mode": {
    "name": "ipython",
    "version": 3
   },
   "file_extension": ".py",
   "mimetype": "text/x-python",
   "name": "python",
   "nbconvert_exporter": "python",
   "pygments_lexer": "ipython3",
   "version": "3.11.4"
  }
 },
 "nbformat": 4,
 "nbformat_minor": 5
}
